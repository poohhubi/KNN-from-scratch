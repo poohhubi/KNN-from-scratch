{
 "cells": [
  {
   "cell_type": "code",
   "metadata": {
    "cell_id": "cf24efef-4cc7-4245-8282-e471e97cc1ca",
    "tags": [],
    "deepnote_to_be_reexecuted": false,
    "source_hash": "89fdecb2",
    "execution_start": 1642767915386,
    "execution_millis": 2705,
    "deepnote_cell_type": "code"
   },
   "source": "import numpy as np\nimport pandas as pd\n\nfrom sklearn import datasets\nfrom sklearn.metrics import accuracy_score",
   "execution_count": null,
   "outputs": []
  },
  {
   "cell_type": "code",
   "metadata": {
    "cell_id": "abd12d62-373f-4d8b-b126-4c6385733154",
    "tags": [],
    "deepnote_to_be_reexecuted": false,
    "source_hash": "6fb32ccb",
    "execution_start": 1642767988761,
    "execution_millis": 110,
    "deepnote_cell_type": "code"
   },
   "source": "iris = datasets.load_iris()\n\ndf = pd.DataFrame(data=iris.data, columns=iris.feature_names)\ndf['target'] = iris.target\ndf",
   "execution_count": null,
   "outputs": [
    {
     "output_type": "execute_result",
     "execution_count": 6,
     "data": {
      "application/vnd.deepnote.dataframe.v3+json": {
       "column_count": 5,
       "row_count": 150,
       "columns": [
        {
         "name": "sepal length (cm)",
         "dtype": "float64",
         "stats": {
          "unique_count": 35,
          "nan_count": 0,
          "min": "4.3",
          "max": "7.9",
          "histogram": [
           {
            "bin_start": 4.3,
            "bin_end": 4.66,
            "count": 9
           },
           {
            "bin_start": 4.66,
            "bin_end": 5.02,
            "count": 23
           },
           {
            "bin_start": 5.02,
            "bin_end": 5.38,
            "count": 14
           },
           {
            "bin_start": 5.38,
            "bin_end": 5.74,
            "count": 27
           },
           {
            "bin_start": 5.74,
            "bin_end": 6.1,
            "count": 16
           },
           {
            "bin_start": 6.1,
            "bin_end": 6.46,
            "count": 26
           },
           {
            "bin_start": 6.46,
            "bin_end": 6.82,
            "count": 18
           },
           {
            "bin_start": 6.82,
            "bin_end": 7.18,
            "count": 6
           },
           {
            "bin_start": 7.18,
            "bin_end": 7.54,
            "count": 5
           },
           {
            "bin_start": 7.54,
            "bin_end": 7.9,
            "count": 6
           }
          ]
         }
        },
        {
         "name": "sepal width (cm)",
         "dtype": "float64",
         "stats": {
          "unique_count": 23,
          "nan_count": 0,
          "min": "2.0",
          "max": "4.4",
          "histogram": [
           {
            "bin_start": 2,
            "bin_end": 2.24,
            "count": 4
           },
           {
            "bin_start": 2.24,
            "bin_end": 2.48,
            "count": 7
           },
           {
            "bin_start": 2.48,
            "bin_end": 2.72,
            "count": 22
           },
           {
            "bin_start": 2.72,
            "bin_end": 2.96,
            "count": 24
           },
           {
            "bin_start": 2.96,
            "bin_end": 3.2,
            "count": 37
           },
           {
            "bin_start": 3.2,
            "bin_end": 3.4400000000000004,
            "count": 31
           },
           {
            "bin_start": 3.4400000000000004,
            "bin_end": 3.6800000000000006,
            "count": 10
           },
           {
            "bin_start": 3.6800000000000006,
            "bin_end": 3.9200000000000004,
            "count": 11
           },
           {
            "bin_start": 3.9200000000000004,
            "bin_end": 4.16,
            "count": 2
           },
           {
            "bin_start": 4.16,
            "bin_end": 4.4,
            "count": 2
           }
          ]
         }
        },
        {
         "name": "petal length (cm)",
         "dtype": "float64",
         "stats": {
          "unique_count": 43,
          "nan_count": 0,
          "min": "1.0",
          "max": "6.9",
          "histogram": [
           {
            "bin_start": 1,
            "bin_end": 1.59,
            "count": 37
           },
           {
            "bin_start": 1.59,
            "bin_end": 2.18,
            "count": 13
           },
           {
            "bin_start": 2.18,
            "bin_end": 2.7700000000000005,
            "count": 0
           },
           {
            "bin_start": 2.7700000000000005,
            "bin_end": 3.3600000000000003,
            "count": 3
           },
           {
            "bin_start": 3.3600000000000003,
            "bin_end": 3.95,
            "count": 8
           },
           {
            "bin_start": 3.95,
            "bin_end": 4.540000000000001,
            "count": 26
           },
           {
            "bin_start": 4.540000000000001,
            "bin_end": 5.130000000000001,
            "count": 29
           },
           {
            "bin_start": 5.130000000000001,
            "bin_end": 5.720000000000001,
            "count": 18
           },
           {
            "bin_start": 5.720000000000001,
            "bin_end": 6.3100000000000005,
            "count": 11
           },
           {
            "bin_start": 6.3100000000000005,
            "bin_end": 6.9,
            "count": 5
           }
          ]
         }
        },
        {
         "name": "petal width (cm)",
         "dtype": "float64",
         "stats": {
          "unique_count": 22,
          "nan_count": 0,
          "min": "0.1",
          "max": "2.5",
          "histogram": [
           {
            "bin_start": 0.1,
            "bin_end": 0.33999999999999997,
            "count": 41
           },
           {
            "bin_start": 0.33999999999999997,
            "bin_end": 0.58,
            "count": 8
           },
           {
            "bin_start": 0.58,
            "bin_end": 0.82,
            "count": 1
           },
           {
            "bin_start": 0.82,
            "bin_end": 1.06,
            "count": 7
           },
           {
            "bin_start": 1.06,
            "bin_end": 1.3,
            "count": 8
           },
           {
            "bin_start": 1.3,
            "bin_end": 1.54,
            "count": 33
           },
           {
            "bin_start": 1.54,
            "bin_end": 1.78,
            "count": 6
           },
           {
            "bin_start": 1.78,
            "bin_end": 2.02,
            "count": 23
           },
           {
            "bin_start": 2.02,
            "bin_end": 2.2600000000000002,
            "count": 9
           },
           {
            "bin_start": 2.2600000000000002,
            "bin_end": 2.5,
            "count": 14
           }
          ]
         }
        },
        {
         "name": "target",
         "dtype": "int64",
         "stats": {
          "unique_count": 3,
          "nan_count": 0,
          "min": "0",
          "max": "2",
          "histogram": [
           {
            "bin_start": 0,
            "bin_end": 0.2,
            "count": 50
           },
           {
            "bin_start": 0.2,
            "bin_end": 0.4,
            "count": 0
           },
           {
            "bin_start": 0.4,
            "bin_end": 0.6000000000000001,
            "count": 0
           },
           {
            "bin_start": 0.6000000000000001,
            "bin_end": 0.8,
            "count": 0
           },
           {
            "bin_start": 0.8,
            "bin_end": 1,
            "count": 0
           },
           {
            "bin_start": 1,
            "bin_end": 1.2000000000000002,
            "count": 50
           },
           {
            "bin_start": 1.2000000000000002,
            "bin_end": 1.4000000000000001,
            "count": 0
           },
           {
            "bin_start": 1.4000000000000001,
            "bin_end": 1.6,
            "count": 0
           },
           {
            "bin_start": 1.6,
            "bin_end": 1.8,
            "count": 0
           },
           {
            "bin_start": 1.8,
            "bin_end": 2,
            "count": 50
           }
          ]
         }
        },
        {
         "name": "_deepnote_index_column",
         "dtype": "int64"
        }
       ],
       "rows": [
        {
         "sepal length (cm)": 5.1,
         "sepal width (cm)": 3.5,
         "petal length (cm)": 1.4,
         "petal width (cm)": 0.2,
         "target": 0,
         "_deepnote_index_column": 0
        },
        {
         "sepal length (cm)": 4.9,
         "sepal width (cm)": 3,
         "petal length (cm)": 1.4,
         "petal width (cm)": 0.2,
         "target": 0,
         "_deepnote_index_column": 1
        },
        {
         "sepal length (cm)": 4.7,
         "sepal width (cm)": 3.2,
         "petal length (cm)": 1.3,
         "petal width (cm)": 0.2,
         "target": 0,
         "_deepnote_index_column": 2
        },
        {
         "sepal length (cm)": 4.6,
         "sepal width (cm)": 3.1,
         "petal length (cm)": 1.5,
         "petal width (cm)": 0.2,
         "target": 0,
         "_deepnote_index_column": 3
        },
        {
         "sepal length (cm)": 5,
         "sepal width (cm)": 3.6,
         "petal length (cm)": 1.4,
         "petal width (cm)": 0.2,
         "target": 0,
         "_deepnote_index_column": 4
        },
        {
         "sepal length (cm)": 5.4,
         "sepal width (cm)": 3.9,
         "petal length (cm)": 1.7,
         "petal width (cm)": 0.4,
         "target": 0,
         "_deepnote_index_column": 5
        },
        {
         "sepal length (cm)": 4.6,
         "sepal width (cm)": 3.4,
         "petal length (cm)": 1.4,
         "petal width (cm)": 0.3,
         "target": 0,
         "_deepnote_index_column": 6
        },
        {
         "sepal length (cm)": 5,
         "sepal width (cm)": 3.4,
         "petal length (cm)": 1.5,
         "petal width (cm)": 0.2,
         "target": 0,
         "_deepnote_index_column": 7
        },
        {
         "sepal length (cm)": 4.4,
         "sepal width (cm)": 2.9,
         "petal length (cm)": 1.4,
         "petal width (cm)": 0.2,
         "target": 0,
         "_deepnote_index_column": 8
        },
        {
         "sepal length (cm)": 4.9,
         "sepal width (cm)": 3.1,
         "petal length (cm)": 1.5,
         "petal width (cm)": 0.1,
         "target": 0,
         "_deepnote_index_column": 9
        }
       ]
      },
      "text/plain": "     sepal length (cm)  sepal width (cm)  petal length (cm)  petal width (cm)  \\\n0                  5.1               3.5                1.4               0.2   \n1                  4.9               3.0                1.4               0.2   \n2                  4.7               3.2                1.3               0.2   \n3                  4.6               3.1                1.5               0.2   \n4                  5.0               3.6                1.4               0.2   \n..                 ...               ...                ...               ...   \n145                6.7               3.0                5.2               2.3   \n146                6.3               2.5                5.0               1.9   \n147                6.5               3.0                5.2               2.0   \n148                6.2               3.4                5.4               2.3   \n149                5.9               3.0                5.1               1.8   \n\n     target  \n0         0  \n1         0  \n2         0  \n3         0  \n4         0  \n..      ...  \n145       2  \n146       2  \n147       2  \n148       2  \n149       2  \n\n[150 rows x 5 columns]",
      "text/html": "<div>\n<style scoped>\n    .dataframe tbody tr th:only-of-type {\n        vertical-align: middle;\n    }\n\n    .dataframe tbody tr th {\n        vertical-align: top;\n    }\n\n    .dataframe thead th {\n        text-align: right;\n    }\n</style>\n<table border=\"1\" class=\"dataframe\">\n  <thead>\n    <tr style=\"text-align: right;\">\n      <th></th>\n      <th>sepal length (cm)</th>\n      <th>sepal width (cm)</th>\n      <th>petal length (cm)</th>\n      <th>petal width (cm)</th>\n      <th>target</th>\n    </tr>\n  </thead>\n  <tbody>\n    <tr>\n      <th>0</th>\n      <td>5.1</td>\n      <td>3.5</td>\n      <td>1.4</td>\n      <td>0.2</td>\n      <td>0</td>\n    </tr>\n    <tr>\n      <th>1</th>\n      <td>4.9</td>\n      <td>3.0</td>\n      <td>1.4</td>\n      <td>0.2</td>\n      <td>0</td>\n    </tr>\n    <tr>\n      <th>2</th>\n      <td>4.7</td>\n      <td>3.2</td>\n      <td>1.3</td>\n      <td>0.2</td>\n      <td>0</td>\n    </tr>\n    <tr>\n      <th>3</th>\n      <td>4.6</td>\n      <td>3.1</td>\n      <td>1.5</td>\n      <td>0.2</td>\n      <td>0</td>\n    </tr>\n    <tr>\n      <th>4</th>\n      <td>5.0</td>\n      <td>3.6</td>\n      <td>1.4</td>\n      <td>0.2</td>\n      <td>0</td>\n    </tr>\n    <tr>\n      <th>...</th>\n      <td>...</td>\n      <td>...</td>\n      <td>...</td>\n      <td>...</td>\n      <td>...</td>\n    </tr>\n    <tr>\n      <th>145</th>\n      <td>6.7</td>\n      <td>3.0</td>\n      <td>5.2</td>\n      <td>2.3</td>\n      <td>2</td>\n    </tr>\n    <tr>\n      <th>146</th>\n      <td>6.3</td>\n      <td>2.5</td>\n      <td>5.0</td>\n      <td>1.9</td>\n      <td>2</td>\n    </tr>\n    <tr>\n      <th>147</th>\n      <td>6.5</td>\n      <td>3.0</td>\n      <td>5.2</td>\n      <td>2.0</td>\n      <td>2</td>\n    </tr>\n    <tr>\n      <th>148</th>\n      <td>6.2</td>\n      <td>3.4</td>\n      <td>5.4</td>\n      <td>2.3</td>\n      <td>2</td>\n    </tr>\n    <tr>\n      <th>149</th>\n      <td>5.9</td>\n      <td>3.0</td>\n      <td>5.1</td>\n      <td>1.8</td>\n      <td>2</td>\n    </tr>\n  </tbody>\n</table>\n<p>150 rows × 5 columns</p>\n</div>"
     },
     "metadata": {}
    }
   ]
  },
  {
   "cell_type": "code",
   "metadata": {
    "cell_id": "ef11f6c8-5020-4fae-ad66-da59e85e31c7",
    "tags": [],
    "deepnote_to_be_reexecuted": false,
    "source_hash": "f8e16088",
    "execution_start": 1642768076572,
    "execution_millis": 1,
    "deepnote_cell_type": "code"
   },
   "source": "X = df.iloc[:,:4]\nY = df.iloc[:,4]",
   "execution_count": null,
   "outputs": []
  },
  {
   "cell_type": "code",
   "metadata": {
    "cell_id": "529ec312-01fd-4114-a5e3-f0f467d2173a",
    "tags": [],
    "deepnote_to_be_reexecuted": false,
    "source_hash": "746a4dbc",
    "execution_start": 1642768096068,
    "execution_millis": 7,
    "deepnote_cell_type": "code"
   },
   "source": "from sklearn.model_selection import train_test_split",
   "execution_count": null,
   "outputs": []
  },
  {
   "cell_type": "code",
   "metadata": {
    "cell_id": "780d0d49-169b-4174-8922-ca06b431648b",
    "tags": [],
    "deepnote_to_be_reexecuted": false,
    "source_hash": "20a8760",
    "execution_start": 1642768151659,
    "execution_millis": 15,
    "deepnote_cell_type": "code"
   },
   "source": "X_train, X_test, Y_train, Y_test = train_test_split(X,Y,test_size=0.2)\nprint(X_train.shape)\nprint(X_test.shape)",
   "execution_count": null,
   "outputs": [
    {
     "name": "stdout",
     "text": "(120, 4)\n(30, 4)\n",
     "output_type": "stream"
    }
   ]
  },
  {
   "cell_type": "code",
   "metadata": {
    "cell_id": "7f62ec6c-9275-4ef0-b82d-1f79cfe6dc2a",
    "tags": [],
    "deepnote_to_be_reexecuted": false,
    "source_hash": "53c85866",
    "execution_start": 1642768938855,
    "execution_millis": 2,
    "deepnote_cell_type": "code"
   },
   "source": "#step1:หาระยะห่าง\ndef distance(X_test,X_train,Y_train,i):\n    distances=[]\n    for row in range(X_train.shape[0]):\n        dist=0\n        for column in range(X_train.shape[1]):\n            dist += (X_test.iloc[i,column] - X_train.iloc[row,column])**2\n        current_distance = np.sqrt(dist)\n        distances.append(current_distance)\n    distances = pd.DataFrame({\n        \"distance\":distances,\n        \"Y_train\":Y_train\n    })\n    return distances",
   "execution_count": null,
   "outputs": []
  },
  {
   "cell_type": "code",
   "metadata": {
    "cell_id": "2a0a9bcf-de3c-454e-9797-d6c1ce9b4260",
    "tags": [],
    "deepnote_to_be_reexecuted": false,
    "source_hash": "ddeefc17",
    "execution_start": 1642769089184,
    "execution_millis": 5,
    "deepnote_cell_type": "code"
   },
   "source": "#step2:เรียงลำดับและหา K ตัวที่น้อยที่สุด\ndef sort_KNN(distance_point,K):\n    df_nearest = distance_point.sort_values(['distance'])\n    df_nearest = df_nearest[:K]\n    return df_nearest",
   "execution_count": null,
   "outputs": []
  },
  {
   "cell_type": "code",
   "metadata": {
    "cell_id": "b8eae37d-6a70-40b4-b3fa-28e2e75860e7",
    "tags": [],
    "deepnote_to_be_reexecuted": false,
    "source_hash": "5af21605",
    "execution_start": 1642769189686,
    "execution_millis": 5,
    "deepnote_cell_type": "code"
   },
   "source": "#step3:หาเสียงข้างมาก\ndef voting(distance_nearest,Y_train):\n    return distance_nearest[\"Y_train\"].mode()[0]",
   "execution_count": null,
   "outputs": []
  },
  {
   "cell_type": "code",
   "metadata": {
    "cell_id": "d00d4024-9b3e-4c71-8bc5-6e99d91f0103",
    "tags": [],
    "deepnote_to_be_reexecuted": false,
    "source_hash": "279e2923",
    "execution_start": 1642769401530,
    "execution_millis": 1,
    "deepnote_cell_type": "code"
   },
   "source": "#Final step : รวมทุกอย่างเข้าด้วยกัน\ndef KNN_from_scratch(K,X_test,X_train,Y_train):\n    Y_pred = []\n    for i in range(X_test.shape[0]):\n        distance_point = distance(X_test,X_train,Y_train,i)\n        df_nearest = sort_KNN(distance_point,K)\n        y_pred = voting(df_nearest,Y_train)\n        Y_pred.append(y_pred)\n    return Y_pred",
   "execution_count": null,
   "outputs": []
  },
  {
   "cell_type": "code",
   "metadata": {
    "cell_id": "0ed82dcf-e645-431e-9feb-bce49ffec8ea",
    "tags": [],
    "deepnote_to_be_reexecuted": false,
    "source_hash": "1de06099",
    "execution_start": 1642769461518,
    "execution_millis": 885,
    "deepnote_cell_type": "code"
   },
   "source": "K = 5\ny_pred_scratch = KNN_from_scratch(K,X_test,X_train,Y_train)\nprint(y_pred_scratch)",
   "execution_count": null,
   "outputs": [
    {
     "name": "stdout",
     "text": "[2, 2, 0, 1, 1, 0, 2, 1, 0, 2, 1, 0, 0, 1, 2, 0, 1, 1, 1, 2, 0, 1, 0, 2, 1, 0, 0, 0, 0, 1]\n",
     "output_type": "stream"
    }
   ]
  },
  {
   "cell_type": "code",
   "metadata": {
    "cell_id": "fdede30e-94b0-434e-96bd-b3b881ad18b0",
    "tags": [],
    "deepnote_to_be_reexecuted": false,
    "source_hash": "8ece9234",
    "execution_start": 1642769487826,
    "execution_millis": 4,
    "deepnote_cell_type": "code"
   },
   "source": "from sklearn.metrics import confusion_matrix",
   "execution_count": null,
   "outputs": []
  },
  {
   "cell_type": "code",
   "metadata": {
    "cell_id": "bb41986a-6114-487f-abf2-4fcbb2d6285b",
    "tags": [],
    "deepnote_to_be_reexecuted": false,
    "source_hash": "383d51ee",
    "execution_start": 1642769509645,
    "execution_millis": 5,
    "deepnote_output_heights": [
     59.578125
    ],
    "deepnote_cell_type": "code"
   },
   "source": "confusion_matrix(Y_test,y_pred_scratch)",
   "execution_count": null,
   "outputs": [
    {
     "output_type": "execute_result",
     "execution_count": 17,
     "data": {
      "text/plain": "array([[12,  0,  0],\n       [ 0, 10,  0],\n       [ 0,  1,  7]])"
     },
     "metadata": {}
    }
   ]
  },
  {
   "cell_type": "code",
   "metadata": {
    "cell_id": "0403ebf2-ec75-4a13-932e-1ec6935827a5",
    "tags": [],
    "deepnote_to_be_reexecuted": false,
    "source_hash": "dcc0610b",
    "execution_start": 1642769534679,
    "execution_millis": 3,
    "deepnote_cell_type": "code"
   },
   "source": "from sklearn.metrics import accuracy_score",
   "execution_count": null,
   "outputs": []
  },
  {
   "cell_type": "code",
   "metadata": {
    "cell_id": "e794c254-5ae4-4b62-80a5-c10d8e04d8c0",
    "tags": [],
    "deepnote_to_be_reexecuted": false,
    "source_hash": "4c3468bf",
    "execution_start": 1642769557642,
    "execution_millis": 6,
    "deepnote_output_heights": [
     21.1875
    ],
    "deepnote_cell_type": "code"
   },
   "source": "accuracy_score(Y_test, y_pred_scratch)",
   "execution_count": null,
   "outputs": [
    {
     "output_type": "execute_result",
     "execution_count": 19,
     "data": {
      "text/plain": "0.9666666666666667"
     },
     "metadata": {}
    }
   ]
  },
  {
   "cell_type": "code",
   "metadata": {
    "cell_id": "ddb90c1b-8892-40c5-94bc-0673a1cb4624",
    "tags": [],
    "deepnote_cell_type": "code"
   },
   "source": "",
   "execution_count": null,
   "outputs": []
  },
  {
   "cell_type": "markdown",
   "source": "<a style='text-decoration:none;line-height:16px;display:flex;color:#5B5B62;padding:10px;justify-content:end;' href='https://deepnote.com?utm_source=created-in-deepnote-cell&projectId=e153759b-05d5-45ba-8f97-c659f80b72c2' target=\"_blank\">\n<img alt='Created in deepnote.com' style='display:inline;max-height:16px;margin:0px;margin-right:7.5px;' src='data:image/svg+xml;base64,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' > </img>\nCreated in <span style='font-weight:600;margin-left:4px;'>Deepnote</span></a>",
   "metadata": {
    "tags": [],
    "created_in_deepnote_cell": true,
    "deepnote_cell_type": "markdown"
   }
  }
 ],
 "nbformat": 4,
 "nbformat_minor": 2,
 "metadata": {
  "orig_nbformat": 2,
  "deepnote": {
   "is_reactive": false
  },
  "deepnote_notebook_id": "3ad1d051-0996-49ff-9a39-4ecccc36fd46",
  "deepnote_execution_queue": []
 }
}